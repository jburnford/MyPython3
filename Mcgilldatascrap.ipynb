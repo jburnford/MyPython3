{
  "nbformat": 4,
  "nbformat_minor": 0,
  "metadata": {
    "colab": {
      "provenance": [],
      "authorship_tag": "ABX9TyP4sNO0BpewHjCFoEKb1lRj",
      "include_colab_link": true
    },
    "kernelspec": {
      "name": "python3",
      "display_name": "Python 3"
    },
    "language_info": {
      "name": "python"
    }
  },
  "cells": [
    {
      "cell_type": "markdown",
      "metadata": {
        "id": "view-in-github",
        "colab_type": "text"
      },
      "source": [
        "<a href=\"https://colab.research.google.com/github/jburnford/MyPython3/blob/master/Mcgilldatascrap.ipynb\" target=\"_parent\"><img src=\"https://colab.research.google.com/assets/colab-badge.svg\" alt=\"Open In Colab\"/></a>"
      ]
    },
    {
      "cell_type": "code",
      "source": [
        "import requests\n",
        "from bs4 import BeautifulSoup\n",
        "import csv\n",
        "import csv\n",
        "from numpy import random\n",
        "from time import sleep\n",
        "# URL template for the web pages\n",
        "url_template = 'https://digital.library.mcgill.ca/countyatlas/showrecord.php?PersonID={}'\n",
        "\n",
        "# The fields for the CSV file\n",
        "fields = [\"Last Name\", \"First Name\", \"Business\", \"Nativity\",\"Year Settled\", \"Post Office\", \"Occupation\", \"Township\", \"County\", \"Atlas Date\", \"Concession and Lot\", \"Lot size\"]\n",
        "\n",
        "# Open a CSV file for writing\n",
        "\n",
        "\n",
        "# Loop over all PersonIDs\n",
        "for person_id in range(1000, 3000):\n",
        "    sleeptime = random.uniform(1, 6)\n",
        "    sleep(sleeptime)\n",
        "    url = url_template.format(person_id)\n",
        "    response = requests.get(url)\n",
        "    soup = BeautifulSoup(response.content, 'lxml')\n",
        "    text = soup.get_text()\n",
        "    # Split the text into lines\n",
        "    lines = text.split('\\n')\n",
        "\n",
        "    # Create an empty dictionary for the data\n",
        "    data = {field: \"\" for field in fields}\n",
        "\n",
        "    # Loop over the lines and extract the data\n",
        "    for i, line in enumerate(lines):\n",
        "        if line == \"Last Name\":\n",
        "            data[\"Last Name\"] = lines[i+1]\n",
        "        elif line == \"First Name\":\n",
        "            data[\"First Name\"] = lines[i+1]\n",
        "        elif line == \"Township\":\n",
        "            data[\"Township\"] = lines[i+1]\n",
        "        elif line == \"County\":\n",
        "            data[\"County\"] = lines[i+1]\n",
        "        elif line == \"Atlas Date\":\n",
        "            data[\"Atlas Date\"] = lines[i+1]\n",
        "        elif line == \"Business\":\n",
        "            data[\"Business\"] = lines[i+1]\n",
        "        elif line == \"Occupation\":\n",
        "            data[\"Occupation\"] = lines[i+1]\n",
        "        elif line == \"Year Settled\":\n",
        "            data[\"Year Settled\"] = lines[i+1]\n",
        "        elif line == \"Nativity\":\n",
        "            data[\"Nativity\"] = lines[i+1]\n",
        "        elif line == \"Post Office\":\n",
        "            data[\"Post Office\"] = lines[i+1]\n",
        "        elif line == \"Concession and Lot\":\n",
        "            data[\"Concession and Lot\"] = lines[i+2]\n",
        "        elif line == \"Lot size\":\n",
        "            data[\"Lot size\"] = lines[i+2]     \n",
        "    # Write the data to the CSV file\n",
        "    with open('data6.csv', 'a', newline='') as csvfile:\n",
        "      writer = csv.DictWriter(csvfile, fieldnames=fields)\n",
        "      writer.writerow(data)\n",
        "\n",
        "\n",
        "    "
      ],
      "metadata": {
        "colab": {
          "base_uri": "https://localhost:8080/",
          "height": 266
        },
        "id": "oM-9e97U_Ixe",
        "outputId": "8262d529-4d51-4daa-aa8d-716b6c77c4ec"
      },
      "execution_count": 3,
      "outputs": [
        {
          "output_type": "error",
          "ename": "KeyboardInterrupt",
          "evalue": "ignored",
          "traceback": [
            "\u001b[0;31m---------------------------------------------------------------------------\u001b[0m",
            "\u001b[0;31mKeyboardInterrupt\u001b[0m                         Traceback (most recent call last)",
            "\u001b[0;32m<ipython-input-3-aff4b3c9f5ca>\u001b[0m in \u001b[0;36m<module>\u001b[0;34m\u001b[0m\n\u001b[1;32m     17\u001b[0m \u001b[0;32mfor\u001b[0m \u001b[0mperson_id\u001b[0m \u001b[0;32min\u001b[0m \u001b[0mrange\u001b[0m\u001b[0;34m(\u001b[0m\u001b[0;36m1000\u001b[0m\u001b[0;34m,\u001b[0m \u001b[0;36m3000\u001b[0m\u001b[0;34m)\u001b[0m\u001b[0;34m:\u001b[0m\u001b[0;34m\u001b[0m\u001b[0;34m\u001b[0m\u001b[0m\n\u001b[1;32m     18\u001b[0m     \u001b[0msleeptime\u001b[0m \u001b[0;34m=\u001b[0m \u001b[0mrandom\u001b[0m\u001b[0;34m.\u001b[0m\u001b[0muniform\u001b[0m\u001b[0;34m(\u001b[0m\u001b[0;36m1\u001b[0m\u001b[0;34m,\u001b[0m \u001b[0;36m6\u001b[0m\u001b[0;34m)\u001b[0m\u001b[0;34m\u001b[0m\u001b[0;34m\u001b[0m\u001b[0m\n\u001b[0;32m---> 19\u001b[0;31m     \u001b[0msleep\u001b[0m\u001b[0;34m(\u001b[0m\u001b[0msleeptime\u001b[0m\u001b[0;34m)\u001b[0m\u001b[0;34m\u001b[0m\u001b[0;34m\u001b[0m\u001b[0m\n\u001b[0m\u001b[1;32m     20\u001b[0m     \u001b[0murl\u001b[0m \u001b[0;34m=\u001b[0m \u001b[0murl_template\u001b[0m\u001b[0;34m.\u001b[0m\u001b[0mformat\u001b[0m\u001b[0;34m(\u001b[0m\u001b[0mperson_id\u001b[0m\u001b[0;34m)\u001b[0m\u001b[0;34m\u001b[0m\u001b[0;34m\u001b[0m\u001b[0m\n\u001b[1;32m     21\u001b[0m     \u001b[0mresponse\u001b[0m \u001b[0;34m=\u001b[0m \u001b[0mrequests\u001b[0m\u001b[0;34m.\u001b[0m\u001b[0mget\u001b[0m\u001b[0;34m(\u001b[0m\u001b[0murl\u001b[0m\u001b[0;34m)\u001b[0m\u001b[0;34m\u001b[0m\u001b[0;34m\u001b[0m\u001b[0m\n",
            "\u001b[0;31mKeyboardInterrupt\u001b[0m: "
          ]
        }
      ]
    },
    {
      "cell_type": "code",
      "source": [],
      "metadata": {
        "id": "A2KiJTVZD5jG"
      },
      "execution_count": null,
      "outputs": []
    }
  ]
}